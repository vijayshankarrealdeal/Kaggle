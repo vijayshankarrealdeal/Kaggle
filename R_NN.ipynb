{
  "nbformat": 4,
  "nbformat_minor": 0,
  "metadata": {
    "colab": {
      "name": "R NN.ipynb",
      "provenance": [],
      "collapsed_sections": [],
      "authorship_tag": "ABX9TyO+w7HIg2g8bI7NVOnjLMSX",
      "include_colab_link": true
    },
    "kernelspec": {
      "name": "python3",
      "display_name": "Python 3"
    },
    "language_info": {
      "name": "python"
    },
    "accelerator": "GPU"
  },
  "cells": [
    {
      "cell_type": "markdown",
      "metadata": {
        "id": "view-in-github",
        "colab_type": "text"
      },
      "source": [
        "<a href=\"https://colab.research.google.com/github/vijayshankarrealdeal/Kaggle/blob/main/R_NN.ipynb\" target=\"_parent\"><img src=\"https://colab.research.google.com/assets/colab-badge.svg\" alt=\"Open In Colab\"/></a>"
      ]
    },
    {
      "cell_type": "code",
      "metadata": {
        "id": "llKogU2IK62z"
      },
      "source": [
        "# ! mkdir ~/.kaggle\n",
        "# ! cp kaggle.json ~/.kaggle/\n",
        "# ! chmod 600 ~/.kaggle/kaggle.json\n",
        "# !kaggle competitions download -c jigsaw-toxic-comment-classification-challenge\n",
        "# !wget 'http://nlp.stanford.edu/data/glove.6B.zip'\n",
        "# !unzip \"/content/glove.6B.zip\" -d \"/content/data/\"\n",
        "# !unzip \"/content/train.csv.zip\" -d \"/content/data/\"\n"
      ],
      "execution_count": 9,
      "outputs": []
    },
    {
      "cell_type": "code",
      "metadata": {
        "id": "XM7KlH7LNW7r"
      },
      "source": [
        "import tensorflow as tf\n",
        "import pandas as pd"
      ],
      "execution_count": 10,
      "outputs": []
    },
    {
      "cell_type": "code",
      "metadata": {
        "id": "zW0Ke5m83WCE"
      },
      "source": [
        "from tensorflow.keras.models import Model\n",
        "from tensorflow.keras.layers import Input,LSTM,Bidirectional,GlobalMaxPooling1D,Dropout\n",
        "import numpy as np\n",
        "import matplotlib.pyplot as plt\n",
        "from tensorflow.keras.preprocessing.text import Tokenizer\n",
        "from tensorflow.keras.preprocessing.sequence import pad_sequences\n",
        "from tensorflow.keras.optimizers import Adam\n",
        "from sklearn.metrics import roc_auc_score"
      ],
      "execution_count": 11,
      "outputs": []
    },
    {
      "cell_type": "code",
      "metadata": {
        "id": "KqjVbBFXJ-9P"
      },
      "source": [
        "MAX_SEQ_LENGTH = 100\n",
        "MAX_VOCAB_SIZE = 20000\n",
        "EMBEDDING_DIM = 100\n",
        "EPOCHS = 20\n",
        "BATCH_SIZE = 128\n",
        "VALIDATION_SPLIT = 0.2"
      ],
      "execution_count": 12,
      "outputs": []
    },
    {
      "cell_type": "code",
      "metadata": {
        "id": "xte82V4nOY5c"
      },
      "source": [
        "word2vec = {}\n",
        "with open('/content/data/glove.6B.100d.txt') as f:\n",
        "  for line in f:\n",
        "    values = line.split()\n",
        "    word = values[0]\n",
        "    vec = np.asarray(values[1:],dtype='float32')\n",
        "    word2vec[word] = vec"
      ],
      "execution_count": 13,
      "outputs": []
    },
    {
      "cell_type": "code",
      "metadata": {
        "id": "fHyc81K8O2oH"
      },
      "source": [
        "train = pd.read_csv('/content/data/train.csv')\n",
        "sentences = train['comment_text'].fillna(\"DUMMY_VALUES\").values\n",
        "possible_labels = [\"toxic\",'severe_toxic','obscene','threat','insult','identity_hate']\n",
        "targets = train[possible_labels].values"
      ],
      "execution_count": 14,
      "outputs": []
    },
    {
      "cell_type": "code",
      "metadata": {
        "id": "msg0bHRTQJxQ"
      },
      "source": [
        "def pre_process(sentences):\n",
        "  tokenizer = Tokenizer(num_words=MAX_VOCAB_SIZE)\n",
        "  tokenizer.fit_on_texts(sentences)\n",
        "  sequences = tokenizer.texts_to_sequences(sentences)\n",
        "  word2idx = tokenizer.word_index\n",
        "  data = pad_sequences(sequences, maxlen=MAX_SEQ_LENGTH)\n",
        "  return data,word2idx\n",
        "data,word2idx = pre_process(sentences)"
      ],
      "execution_count": 15,
      "outputs": []
    },
    {
      "cell_type": "code",
      "metadata": {
        "colab": {
          "base_uri": "https://localhost:8080/"
        },
        "id": "YyPQi_UFVz5G",
        "outputId": "f22fee8c-0668-41fd-ebd8-beee9f34155d"
      },
      "source": [
        "num_words = min(MAX_VOCAB_SIZE,len(word2idx)+1)\n",
        "embedding_matrix = np.zeros((num_words,EMBEDDING_DIM))\n",
        "num_words,embedding_matrix.shape,EMBEDDING_DIM"
      ],
      "execution_count": 16,
      "outputs": [
        {
          "output_type": "execute_result",
          "data": {
            "text/plain": [
              "(20000, (20000, 100), 100)"
            ]
          },
          "metadata": {},
          "execution_count": 16
        }
      ]
    },
    {
      "cell_type": "code",
      "metadata": {
        "id": "ywuH98puRPga"
      },
      "source": [
        "for word,i in word2idx.items():\n",
        "  if i < MAX_VOCAB_SIZE:\n",
        "    embedding_vector = word2vec.get(word)\n",
        "    if embedding_vector is not None:\n",
        "      embedding_matrix[i] = embedding_vector"
      ],
      "execution_count": 17,
      "outputs": []
    },
    {
      "cell_type": "code",
      "metadata": {
        "id": "l77WHdjtSk40"
      },
      "source": [
        "embedding_layer = tf.keras.layers.Embedding(\n",
        "    num_words,\n",
        "    EMBEDDING_DIM,\n",
        "    weights = [embedding_matrix],\n",
        "    input_length = MAX_SEQ_LENGTH,\n",
        "    trainable = False,\n",
        ")"
      ],
      "execution_count": 18,
      "outputs": []
    },
    {
      "cell_type": "code",
      "metadata": {
        "id": "zpOmt7uGZD1G"
      },
      "source": [
        "input_ = Input(shape = (MAX_SEQ_LENGTH))\n",
        "x = embedding_layer(input_)\n",
        "x = LSTM(15,return_sequences=True)(x)\n",
        "x = GlobalMaxPooling1D()(x)\n",
        "output = tf.keras.layers.Dense(len(possible_labels),activation = 'sigmoid')(x)\n",
        "model = Model(input_,output)\n",
        "model.compile(\n",
        "    loss = 'binary_crossentropy',\n",
        "    optimizer = Adam(learning_rate = 0.01),\n",
        "    metrics = ['accuracy'],\n",
        ")"
      ],
      "execution_count": 19,
      "outputs": []
    },
    {
      "cell_type": "code",
      "metadata": {
        "colab": {
          "base_uri": "https://localhost:8080/"
        },
        "id": "PThGXsytZKqA",
        "outputId": "c63ce277-d9bb-482f-c04b-c9ba1df46f6c"
      },
      "source": [
        "r = model.fit(\n",
        "    data,\n",
        "    targets,\n",
        "    batch_size=BATCH_SIZE,\n",
        "    epochs=EPOCHS,\n",
        "    validation_split=VALIDATION_SPLIT\n",
        ")"
      ],
      "execution_count": 20,
      "outputs": [
        {
          "output_type": "stream",
          "text": [
            "Epoch 1/20\n",
            "998/998 [==============================] - 27s 20ms/step - loss: 0.0832 - accuracy: 0.9470 - val_loss: 0.0615 - val_accuracy: 0.9941\n",
            "Epoch 2/20\n",
            "998/998 [==============================] - 19s 19ms/step - loss: 0.0578 - accuracy: 0.9922 - val_loss: 0.0576 - val_accuracy: 0.9916\n",
            "Epoch 3/20\n",
            "998/998 [==============================] - 19s 19ms/step - loss: 0.0551 - accuracy: 0.9871 - val_loss: 0.0561 - val_accuracy: 0.9918\n",
            "Epoch 4/20\n",
            "998/998 [==============================] - 19s 19ms/step - loss: 0.0529 - accuracy: 0.9873 - val_loss: 0.0536 - val_accuracy: 0.9792\n",
            "Epoch 5/20\n",
            "998/998 [==============================] - 19s 19ms/step - loss: 0.0510 - accuracy: 0.9821 - val_loss: 0.0526 - val_accuracy: 0.9686\n",
            "Epoch 6/20\n",
            "998/998 [==============================] - 19s 19ms/step - loss: 0.0500 - accuracy: 0.9776 - val_loss: 0.0531 - val_accuracy: 0.9862\n",
            "Epoch 7/20\n",
            "998/998 [==============================] - 19s 19ms/step - loss: 0.0492 - accuracy: 0.9694 - val_loss: 0.0527 - val_accuracy: 0.9849\n",
            "Epoch 8/20\n",
            "998/998 [==============================] - 19s 19ms/step - loss: 0.0488 - accuracy: 0.9732 - val_loss: 0.0529 - val_accuracy: 0.9777\n",
            "Epoch 9/20\n",
            "998/998 [==============================] - 19s 19ms/step - loss: 0.0482 - accuracy: 0.9714 - val_loss: 0.0519 - val_accuracy: 0.9874\n",
            "Epoch 10/20\n",
            "998/998 [==============================] - 19s 19ms/step - loss: 0.0480 - accuracy: 0.9754 - val_loss: 0.0522 - val_accuracy: 0.9838\n",
            "Epoch 11/20\n",
            "998/998 [==============================] - 20s 20ms/step - loss: 0.0477 - accuracy: 0.9760 - val_loss: 0.0519 - val_accuracy: 0.9861\n",
            "Epoch 12/20\n",
            "998/998 [==============================] - 21s 21ms/step - loss: 0.0473 - accuracy: 0.9762 - val_loss: 0.0525 - val_accuracy: 0.9897\n",
            "Epoch 13/20\n",
            "998/998 [==============================] - 21s 21ms/step - loss: 0.0470 - accuracy: 0.9730 - val_loss: 0.0524 - val_accuracy: 0.9822\n",
            "Epoch 14/20\n",
            "998/998 [==============================] - 21s 21ms/step - loss: 0.0469 - accuracy: 0.9753 - val_loss: 0.0525 - val_accuracy: 0.9883\n",
            "Epoch 15/20\n",
            "998/998 [==============================] - 21s 21ms/step - loss: 0.0465 - accuracy: 0.9770 - val_loss: 0.0519 - val_accuracy: 0.9858\n",
            "Epoch 16/20\n",
            "998/998 [==============================] - 21s 21ms/step - loss: 0.0462 - accuracy: 0.9702 - val_loss: 0.0525 - val_accuracy: 0.9910\n",
            "Epoch 17/20\n",
            "998/998 [==============================] - 21s 21ms/step - loss: 0.0459 - accuracy: 0.9764 - val_loss: 0.0524 - val_accuracy: 0.9716\n",
            "Epoch 18/20\n",
            "998/998 [==============================] - 21s 21ms/step - loss: 0.0458 - accuracy: 0.9755 - val_loss: 0.0531 - val_accuracy: 0.9763\n",
            "Epoch 19/20\n",
            "998/998 [==============================] - 22s 22ms/step - loss: 0.0457 - accuracy: 0.9729 - val_loss: 0.0526 - val_accuracy: 0.9741\n",
            "Epoch 20/20\n",
            "998/998 [==============================] - 20s 20ms/step - loss: 0.0455 - accuracy: 0.9721 - val_loss: 0.0519 - val_accuracy: 0.9533\n"
          ],
          "name": "stdout"
        }
      ]
    },
    {
      "cell_type": "code",
      "metadata": {
        "colab": {
          "base_uri": "https://localhost:8080/",
          "height": 287
        },
        "id": "Wn-W9KPVaKB6",
        "outputId": "212a5a73-506e-4649-bab2-5cac970529d5"
      },
      "source": [
        "plt.plot(r.history['loss'],label = 'LOSS')\n",
        "plt.plot(r.history['val_loss'],label = 'VAL_LOSS')\n",
        "plt.legend()\n",
        "plt.plot()"
      ],
      "execution_count": 21,
      "outputs": [
        {
          "output_type": "execute_result",
          "data": {
            "text/plain": [
              "[]"
            ]
          },
          "metadata": {},
          "execution_count": 21
        },
        {
          "output_type": "display_data",
          "data": {
            "image/png": "[encoded data removed]",
            "text/plain": [
              "<Figure size 432x288 with 1 Axes>"
            ]
          },
          "metadata": {
            "needs_background": "light"
          }
        }
      ]
    },
    {
      "cell_type": "code",
      "metadata": {
        "colab": {
          "base_uri": "https://localhost:8080/",
          "height": 283
        },
        "id": "a1RtioczaQBy",
        "outputId": "d17766a2-5d44-450d-8c8a-da6dee1b2cde"
      },
      "source": [
        "plt.plot(r.history['accuracy'],label = 'accuracy')\n",
        "plt.plot(r.history['val_accuracy'],label = 'val_accuracy')\n",
        "plt.legend()\n",
        "plt.plot()"
      ],
      "execution_count": 22,
      "outputs": [
        {
          "output_type": "execute_result",
          "data": {
            "text/plain": [
              "[]"
            ]
          },
          "metadata": {},
          "execution_count": 22
        },
        {
          "output_type": "display_data",
          "data": {
            "image/png": "[encoded data removed]",
            "text/plain": [
              "<Figure size 432x288 with 1 Axes>"
            ]
          },
          "metadata": {
            "needs_background": "light"
          }
        }
      ]
    },
    {
      "cell_type": "code",
      "metadata": {
        "id": "SwDIEYnuaVJF"
      },
      "source": [
        "predict = model.predict(data)"
      ],
      "execution_count": 23,
      "outputs": []
    },
    {
      "cell_type": "code",
      "metadata": {
        "colab": {
          "base_uri": "https://localhost:8080/"
        },
        "id": "ffgZVPvsaSbL",
        "outputId": "de12cc67-744a-4c3e-82f4-c58d25f02426"
      },
      "source": [
        "accs = []\n",
        "for j in range(6):\n",
        "  acu = roc_auc_score(targets[:,j],predict[:,j])\n",
        "  accs.append(acu)\n",
        "print(np.mean(accs)*100)"
      ],
      "execution_count": 24,
      "outputs": [
        {
          "output_type": "stream",
          "text": [
            "98.38622548784001\n"
          ],
          "name": "stdout"
        }
      ]
    },
    {
      "cell_type": "code",
      "metadata": {
        "colab": {
          "base_uri": "https://localhost:8080/"
        },
        "id": "OHPjF26UeO_L",
        "outputId": "a3d2d677-eeb1-4ec6-932a-8b1b2d99514b"
      },
      "source": [
        "!unzip '/content/test.csv.zip' -d '/content/data/'"
      ],
      "execution_count": 25,
      "outputs": [
        {
          "output_type": "stream",
          "text": [
            "Archive:  /content/test.csv.zip\n",
            "  inflating: /content/data/test.csv  \n"
          ],
          "name": "stdout"
        }
      ]
    },
    {
      "cell_type": "code",
      "metadata": {
        "colab": {
          "base_uri": "https://localhost:8080/"
        },
        "id": "pkxlMq6ugdbA",
        "outputId": "e7413564-97e2-4d6a-c2ab-dca23b0e8903"
      },
      "source": [
        "!unzip '/content/sample_submission.csv.zip' -d '/content/data/'"
      ],
      "execution_count": 35,
      "outputs": [
        {
          "output_type": "stream",
          "text": [
            "Archive:  /content/sample_submission.csv.zip\n",
            "  inflating: /content/data/sample_submission.csv  \n"
          ],
          "name": "stdout"
        }
      ]
    },
    {
      "cell_type": "code",
      "metadata": {
        "id": "JKJgnYvCenvs"
      },
      "source": [
        "data_test = pd.read_csv('/content/data/test.csv')"
      ],
      "execution_count": 56,
      "outputs": []
    },
    {
      "cell_type": "code",
      "metadata": {
        "id": "eg3hFojxessD"
      },
      "source": [
        "ids  = data_test.id"
      ],
      "execution_count": 57,
      "outputs": []
    },
    {
      "cell_type": "code",
      "metadata": {
        "id": "eEFdnqfxhtYX"
      },
      "source": [
        "data_test.drop('id',axis = 1,inplace = True)"
      ],
      "execution_count": 58,
      "outputs": []
    },
    {
      "cell_type": "code",
      "metadata": {
        "colab": {
          "base_uri": "https://localhost:8080/"
        },
        "id": "qc_Wy1VlhmcC",
        "outputId": "ec478ed8-314a-4f74-baa3-f80e4b04efde"
      },
      "source": [
        "ids"
      ],
      "execution_count": 59,
      "outputs": [
        {
          "output_type": "execute_result",
          "data": {
            "text/plain": [
              "0         00001cee341fdb12\n",
              "1         0000247867823ef7\n",
              "2         00013b17ad220c46\n",
              "3         00017563c3f7919a\n",
              "4         00017695ad8997eb\n",
              "                ...       \n",
              "153159    fffcd0960ee309b5\n",
              "153160    fffd7a9a6eb32c16\n",
              "153161    fffda9e8d6fafa9e\n",
              "153162    fffe8f1340a79fc2\n",
              "153163    ffffce3fb183ee80\n",
              "Name: id, Length: 153164, dtype: object"
            ]
          },
          "metadata": {},
          "execution_count": 59
        }
      ]
    },
    {
      "cell_type": "code",
      "metadata": {
        "id": "5YHYMmE_e12F"
      },
      "source": [
        "ids_ = pd.DataFrame(ids.values,columns=['id'])"
      ],
      "execution_count": 60,
      "outputs": []
    },
    {
      "cell_type": "code",
      "metadata": {
        "id": "lMoyzZmSedgZ"
      },
      "source": [
        "sentences_test = data_test['comment_text'].fillna(\"DUMMY_VALUES\").values\n",
        "data_test,word2idx_test = pre_process(sentences_test)"
      ],
      "execution_count": 61,
      "outputs": []
    },
    {
      "cell_type": "code",
      "metadata": {
        "id": "842Sp87Rfczn"
      },
      "source": [
        "predict_test = model.predict(data_test)"
      ],
      "execution_count": 62,
      "outputs": []
    },
    {
      "cell_type": "code",
      "metadata": {
        "id": "w-lqwPtHgtp2"
      },
      "source": [
        "sub = pd.DataFrame(np.round(predict_test),columns=possible_labels)"
      ],
      "execution_count": 63,
      "outputs": []
    },
    {
      "cell_type": "code",
      "metadata": {
        "colab": {
          "base_uri": "https://localhost:8080/",
          "height": 423
        },
        "id": "OkW0ik39gy1f",
        "outputId": "0746ff8a-17db-486f-d96d-8781fc4e26f6"
      },
      "source": [
        "sub"
      ],
      "execution_count": 64,
      "outputs": [
        {
          "output_type": "execute_result",
          "data": {
            "text/html": [
              "<div>\n",
              "<style scoped>\n",
              "    .dataframe tbody tr th:only-of-type {\n",
              "        vertical-align: middle;\n",
              "    }\n",
              "\n",
              "    .dataframe tbody tr th {\n",
              "        vertical-align: top;\n",
              "    }\n",
              "\n",
              "    .dataframe thead th {\n",
              "        text-align: right;\n",
              "    }\n",
              "</style>\n",
              "<table border=\"1\" class=\"dataframe\">\n",
              "  <thead>\n",
              "    <tr style=\"text-align: right;\">\n",
              "      <th></th>\n",
              "      <th>toxic</th>\n",
              "      <th>severe_toxic</th>\n",
              "      <th>obscene</th>\n",
              "      <th>threat</th>\n",
              "      <th>insult</th>\n",
              "      <th>identity_hate</th>\n",
              "    </tr>\n",
              "  </thead>\n",
              "  <tbody>\n",
              "    <tr>\n",
              "      <th>0</th>\n",
              "      <td>1.0</td>\n",
              "      <td>0.0</td>\n",
              "      <td>1.0</td>\n",
              "      <td>0.0</td>\n",
              "      <td>0.0</td>\n",
              "      <td>0.0</td>\n",
              "    </tr>\n",
              "    <tr>\n",
              "      <th>1</th>\n",
              "      <td>1.0</td>\n",
              "      <td>0.0</td>\n",
              "      <td>1.0</td>\n",
              "      <td>0.0</td>\n",
              "      <td>0.0</td>\n",
              "      <td>0.0</td>\n",
              "    </tr>\n",
              "    <tr>\n",
              "      <th>2</th>\n",
              "      <td>0.0</td>\n",
              "      <td>0.0</td>\n",
              "      <td>0.0</td>\n",
              "      <td>0.0</td>\n",
              "      <td>0.0</td>\n",
              "      <td>0.0</td>\n",
              "    </tr>\n",
              "    <tr>\n",
              "      <th>3</th>\n",
              "      <td>0.0</td>\n",
              "      <td>0.0</td>\n",
              "      <td>0.0</td>\n",
              "      <td>0.0</td>\n",
              "      <td>0.0</td>\n",
              "      <td>0.0</td>\n",
              "    </tr>\n",
              "    <tr>\n",
              "      <th>4</th>\n",
              "      <td>0.0</td>\n",
              "      <td>0.0</td>\n",
              "      <td>0.0</td>\n",
              "      <td>0.0</td>\n",
              "      <td>0.0</td>\n",
              "      <td>0.0</td>\n",
              "    </tr>\n",
              "    <tr>\n",
              "      <th>...</th>\n",
              "      <td>...</td>\n",
              "      <td>...</td>\n",
              "      <td>...</td>\n",
              "      <td>...</td>\n",
              "      <td>...</td>\n",
              "      <td>...</td>\n",
              "    </tr>\n",
              "    <tr>\n",
              "      <th>153159</th>\n",
              "      <td>1.0</td>\n",
              "      <td>0.0</td>\n",
              "      <td>0.0</td>\n",
              "      <td>0.0</td>\n",
              "      <td>1.0</td>\n",
              "      <td>0.0</td>\n",
              "    </tr>\n",
              "    <tr>\n",
              "      <th>153160</th>\n",
              "      <td>0.0</td>\n",
              "      <td>0.0</td>\n",
              "      <td>0.0</td>\n",
              "      <td>0.0</td>\n",
              "      <td>0.0</td>\n",
              "      <td>0.0</td>\n",
              "    </tr>\n",
              "    <tr>\n",
              "      <th>153161</th>\n",
              "      <td>0.0</td>\n",
              "      <td>0.0</td>\n",
              "      <td>0.0</td>\n",
              "      <td>0.0</td>\n",
              "      <td>0.0</td>\n",
              "      <td>0.0</td>\n",
              "    </tr>\n",
              "    <tr>\n",
              "      <th>153162</th>\n",
              "      <td>0.0</td>\n",
              "      <td>0.0</td>\n",
              "      <td>0.0</td>\n",
              "      <td>0.0</td>\n",
              "      <td>0.0</td>\n",
              "      <td>0.0</td>\n",
              "    </tr>\n",
              "    <tr>\n",
              "      <th>153163</th>\n",
              "      <td>0.0</td>\n",
              "      <td>0.0</td>\n",
              "      <td>0.0</td>\n",
              "      <td>0.0</td>\n",
              "      <td>0.0</td>\n",
              "      <td>0.0</td>\n",
              "    </tr>\n",
              "  </tbody>\n",
              "</table>\n",
              "<p>153164 rows × 6 columns</p>\n",
              "</div>"
            ],
            "text/plain": [
              "        toxic  severe_toxic  obscene  threat  insult  identity_hate\n",
              "0         1.0           0.0      1.0     0.0     0.0            0.0\n",
              "1         1.0           0.0      1.0     0.0     0.0            0.0\n",
              "2         0.0           0.0      0.0     0.0     0.0            0.0\n",
              "3         0.0           0.0      0.0     0.0     0.0            0.0\n",
              "4         0.0           0.0      0.0     0.0     0.0            0.0\n",
              "...       ...           ...      ...     ...     ...            ...\n",
              "153159    1.0           0.0      0.0     0.0     1.0            0.0\n",
              "153160    0.0           0.0      0.0     0.0     0.0            0.0\n",
              "153161    0.0           0.0      0.0     0.0     0.0            0.0\n",
              "153162    0.0           0.0      0.0     0.0     0.0            0.0\n",
              "153163    0.0           0.0      0.0     0.0     0.0            0.0\n",
              "\n",
              "[153164 rows x 6 columns]"
            ]
          },
          "metadata": {},
          "execution_count": 64
        }
      ]
    },
    {
      "cell_type": "code",
      "metadata": {
        "colab": {
          "base_uri": "https://localhost:8080/",
          "height": 423
        },
        "id": "geu53QSQg3PG",
        "outputId": "1e02e650-7098-49a5-a1f5-15127536ccec"
      },
      "source": [
        "ids_"
      ],
      "execution_count": 65,
      "outputs": [
        {
          "output_type": "execute_result",
          "data": {
            "text/html": [
              "<div>\n",
              "<style scoped>\n",
              "    .dataframe tbody tr th:only-of-type {\n",
              "        vertical-align: middle;\n",
              "    }\n",
              "\n",
              "    .dataframe tbody tr th {\n",
              "        vertical-align: top;\n",
              "    }\n",
              "\n",
              "    .dataframe thead th {\n",
              "        text-align: right;\n",
              "    }\n",
              "</style>\n",
              "<table border=\"1\" class=\"dataframe\">\n",
              "  <thead>\n",
              "    <tr style=\"text-align: right;\">\n",
              "      <th></th>\n",
              "      <th>id</th>\n",
              "    </tr>\n",
              "  </thead>\n",
              "  <tbody>\n",
              "    <tr>\n",
              "      <th>0</th>\n",
              "      <td>00001cee341fdb12</td>\n",
              "    </tr>\n",
              "    <tr>\n",
              "      <th>1</th>\n",
              "      <td>0000247867823ef7</td>\n",
              "    </tr>\n",
              "    <tr>\n",
              "      <th>2</th>\n",
              "      <td>00013b17ad220c46</td>\n",
              "    </tr>\n",
              "    <tr>\n",
              "      <th>3</th>\n",
              "      <td>00017563c3f7919a</td>\n",
              "    </tr>\n",
              "    <tr>\n",
              "      <th>4</th>\n",
              "      <td>00017695ad8997eb</td>\n",
              "    </tr>\n",
              "    <tr>\n",
              "      <th>...</th>\n",
              "      <td>...</td>\n",
              "    </tr>\n",
              "    <tr>\n",
              "      <th>153159</th>\n",
              "      <td>fffcd0960ee309b5</td>\n",
              "    </tr>\n",
              "    <tr>\n",
              "      <th>153160</th>\n",
              "      <td>fffd7a9a6eb32c16</td>\n",
              "    </tr>\n",
              "    <tr>\n",
              "      <th>153161</th>\n",
              "      <td>fffda9e8d6fafa9e</td>\n",
              "    </tr>\n",
              "    <tr>\n",
              "      <th>153162</th>\n",
              "      <td>fffe8f1340a79fc2</td>\n",
              "    </tr>\n",
              "    <tr>\n",
              "      <th>153163</th>\n",
              "      <td>ffffce3fb183ee80</td>\n",
              "    </tr>\n",
              "  </tbody>\n",
              "</table>\n",
              "<p>153164 rows × 1 columns</p>\n",
              "</div>"
            ],
            "text/plain": [
              "                      id\n",
              "0       00001cee341fdb12\n",
              "1       0000247867823ef7\n",
              "2       00013b17ad220c46\n",
              "3       00017563c3f7919a\n",
              "4       00017695ad8997eb\n",
              "...                  ...\n",
              "153159  fffcd0960ee309b5\n",
              "153160  fffd7a9a6eb32c16\n",
              "153161  fffda9e8d6fafa9e\n",
              "153162  fffe8f1340a79fc2\n",
              "153163  ffffce3fb183ee80\n",
              "\n",
              "[153164 rows x 1 columns]"
            ]
          },
          "metadata": {},
          "execution_count": 65
        }
      ]
    },
    {
      "cell_type": "code",
      "metadata": {
        "id": "XWBJYrS9fcuq"
      },
      "source": [
        "finals = ids_.join(sub)\n",
        "finals.to_csv(\"submission.csv\", index=False)"
      ],
      "execution_count": 67,
      "outputs": []
    },
    {
      "cell_type": "code",
      "metadata": {
        "id": "zfZImdvzg4za"
      },
      "source": [
        ""
      ],
      "execution_count": null,
      "outputs": []
    }
  ]
}